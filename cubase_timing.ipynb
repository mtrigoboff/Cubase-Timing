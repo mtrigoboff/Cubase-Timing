{
  "nbformat": 4,
  "nbformat_minor": 0,
  "metadata": {
    "colab": {
      "provenance": []
    },
    "kernelspec": {
      "name": "python3",
      "display_name": "Python 3"
    },
    "language_info": {
      "name": "python"
    }
  },
  "cells": [
    {
      "cell_type": "markdown",
      "source": [
        "# Cubase Timing\n",
        "*by Michael Trigoboff*\n",
        "\n",
        "Let's say you have an interval in a **Cubase** song that you want to divide into a number of segments of equal length. This can involve some annoyingly tricky mental math about **quarter notes**, **16th notes**, and **ticks**. This **Jupyter Notebook** will do the math for you.\n",
        "\n",
        "To run the software, click the **run arrow** at the top left of each of the code cells below this text cell. It's necessary to do them in order from the top to the bottom.\n",
        "\n",
        "*You may have to click in the second cell once you have clicked its run arrow for it to accept your input.*"
      ],
      "metadata": {
        "id": "-3ZSgZz5_Cie"
      }
    },
    {
      "cell_type": "code",
      "source": [
        "# set up the software\n",
        "\n",
        "! rm -rf sample_data\n",
        "! rm -rf cubase_timing\n",
        "! git config --global init.defaultBranch main\n",
        "! git config --global advice.detachedHead false\n",
        "! git clone -b main https://github.com/mtrigoboff/cubase_timing"
      ],
      "metadata": {
        "id": "XgJ6Xrh26BsW"
      },
      "execution_count": null,
      "outputs": []
    },
    {
      "cell_type": "code",
      "source": [
        "# run the software\n",
        "# (you may have to click in this cell for it to accept your input)\n",
        "\n",
        "! python cubase_timing/cubase_timing.py jupyter"
      ],
      "metadata": {
        "id": "5dg6tUF28Wvn"
      },
      "execution_count": null,
      "outputs": []
    }
  ]
}